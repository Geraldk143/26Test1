{
 "cells": [
  {
   "cell_type": "code",
   "execution_count": 42,
   "id": "48097b1e-2db6-4ba9-a8e2-00beb1194347",
   "metadata": {},
   "outputs": [
    {
     "data": {
      "text/html": [
       "\n",
       "<!DOCTYPE html>\n",
       "<html lang=\"en\">\n",
       "<head>\n",
       "    <meta charset=\"UTF-8\">\n",
       "    <meta name=\"viewport\" content=\"width=device-width, initial-scale=1.0\">\n",
       "    <title>Document Management and Bill Payment Tracker</title>\n",
       "</head>\n",
       "<body>\n",
       "    <h1>Welcome to Your Document Management and Bill Payment Tracker</h1>\n",
       "    <img src=\"https://images.unsplash.com/photo-1517430816045-df4b7de11d1d?crop=entropy&cs=tinysrgb&fit=max&fm=jpg&ixid=MnwzNjUyOXwwfDF8c2VhcmNofDJ8fGRlc2t8ZW58MHx8fHwxNjI4MDg1ODkz&ixlib=rb-1.2.1&q=80&w=400\" width=\"320\" height=\"240\" alt=\"Organized Desk with Documents\">\n",
       "    <h3>Manage your bills, receipts, and financial documents with ease.</h3>\n",
       "    \n",
       "    <!-- Sign Up Form -->\n",
       "    <h4>Sign Up</h4>\n",
       "    <form action=\"/signup\" method=\"post\">\n",
       "        <input type=\"text\" name=\"username\" placeholder=\"Username\">\n",
       "        <input type=\"password\" name=\"password\" placeholder=\"Password\">\n",
       "        <input type=\"submit\" value=\"Sign Up\">\n",
       "    </form>\n",
       "    \n",
       "    <!-- Sign In Form -->\n",
       "    <h4>Sign In</h4>\n",
       "    <form action=\"/signin\" method=\"post\">\n",
       "        <input type=\"text\" name=\"username\" placeholder=\"Username\">\n",
       "        <input type=\"password\" name=\"password\" placeholder=\"Password\">\n",
       "        <input type=\"submit\" value=\"Sign In\">\n",
       "    </form>\n",
       "</body>\n",
       "</html>\n"
      ],
      "text/plain": [
       "<IPython.core.display.HTML object>"
      ]
     },
     "metadata": {},
     "output_type": "display_data"
    }
   ],
   "source": [
    "from IPython.display import HTML, display\n",
    "\n",
    "# Define your HTML content as a string\n",
    "html_content = \"\"\"\n",
    "<!DOCTYPE html>\n",
    "<html lang=\"en\">\n",
    "<head>\n",
    "    <meta charset=\"UTF-8\">\n",
    "    <meta name=\"viewport\" content=\"width=device-width, initial-scale=1.0\">\n",
    "    <title>Document Management and Bill Payment Tracker</title>\n",
    "</head>\n",
    "<body>\n",
    "    <h1>Welcome to Your Document Management and Bill Payment Tracker</h1>\n",
    "    <img src=\"https://images.unsplash.com/photo-1517430816045-df4b7de11d1d?crop=entropy&cs=tinysrgb&fit=max&fm=jpg&ixid=MnwzNjUyOXwwfDF8c2VhcmNofDJ8fGRlc2t8ZW58MHx8fHwxNjI4MDg1ODkz&ixlib=rb-1.2.1&q=80&w=400\" width=\"320\" height=\"240\" alt=\"Organized Desk with Documents\">\n",
    "    <h3>Manage your bills, receipts, and financial documents with ease.</h3>\n",
    "    \n",
    "    <!-- Sign Up Form -->\n",
    "    <h4>Sign Up</h4>\n",
    "    <form action=\"/signup\" method=\"post\">\n",
    "        <input type=\"text\" name=\"username\" placeholder=\"Username\">\n",
    "        <input type=\"password\" name=\"password\" placeholder=\"Password\">\n",
    "        <input type=\"submit\" value=\"Sign Up\">\n",
    "    </form>\n",
    "    \n",
    "    <!-- Sign In Form -->\n",
    "    <h4>Sign In</h4>\n",
    "    <form action=\"/signin\" method=\"post\">\n",
    "        <input type=\"text\" name=\"username\" placeholder=\"Username\">\n",
    "        <input type=\"password\" name=\"password\" placeholder=\"Password\">\n",
    "        <input type=\"submit\" value=\"Sign In\">\n",
    "    </form>\n",
    "</body>\n",
    "</html>\n",
    "\"\"\"\n",
    "\n",
    "# Create an instance of HTML with the HTML content\n",
    "html_display = HTML(html_content)\n",
    "\n",
    "# Display the HTML\n",
    "display(html_display)"
   ]
  },
  {
   "cell_type": "code",
   "execution_count": null,
   "id": "42cb625a-b370-4c61-a7b5-4dfcb1e3c13a",
   "metadata": {},
   "outputs": [],
   "source": []
  }
 ],
 "metadata": {
  "kernelspec": {
   "display_name": "Python 3 (ipykernel)",
   "language": "python",
   "name": "python3"
  },
  "language_info": {
   "codemirror_mode": {
    "name": "ipython",
    "version": 3
   },
   "file_extension": ".py",
   "mimetype": "text/x-python",
   "name": "python",
   "nbconvert_exporter": "python",
   "pygments_lexer": "ipython3",
   "version": "3.11.7"
  }
 },
 "nbformat": 4,
 "nbformat_minor": 5
}
